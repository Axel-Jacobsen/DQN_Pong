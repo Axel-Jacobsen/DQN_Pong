{
 "cells": [
  {
   "cell_type": "code",
   "execution_count": 2,
   "metadata": {},
   "outputs": [
    {
     "data": {
      "text/plain": [
       "<torch._C.Generator at 0x7ff13819be30>"
      ]
     },
     "execution_count": 2,
     "metadata": {},
     "output_type": "execute_result"
    }
   ],
   "source": [
    "import gym\n",
    "import numpy as np\n",
    "\n",
    "import torch\n",
    "import torch.optim as optim\n",
    "import torch.nn as nn\n",
    "import torch.nn.functional as F\n",
    "from scipy.ndimage.measurements import center_of_mass\n",
    "\n",
    "import random\n",
    "from collections import namedtuple, deque\n",
    "\n",
    "torch.manual_seed(0)"
   ]
  },
  {
   "cell_type": "code",
   "execution_count": 3,
   "metadata": {},
   "outputs": [],
   "source": [
    "Transition = namedtuple('Transition',\n",
    "                        ('state', 'action', 'reward', 'next_state', 'done'))\n",
    "\n",
    "\n",
    "class ReplayMemory(object):\n",
    "\n",
    "    def __init__(self, capacity):\n",
    "        self.memory = deque(maxlen=capacity)\n",
    "\n",
    "    def __len__(self):\n",
    "        return len(self.memory)\n",
    "\n",
    "    def push(self, *args):\n",
    "        self.memory.append(Transition(*args))\n",
    "\n",
    "    # Returns list of Transitions\n",
    "    def sample(self, batch_size):\n",
    "        return random.sample(self.memory, batch_size)\n",
    "\n",
    "    def count(self):\n",
    "        return len(self.memory)\n",
    "    \n",
    "    \n",
    "class DQN(nn.Module):\n",
    "    '''DQN'''\n",
    "\n",
    "    def __init__(self, in_features=4, n_actions=6, device='cpu'):\n",
    "        self.device = device\n",
    "\n",
    "        super(DQN, self).__init__()\n",
    "        self.gru = nn.GRU(in_features, 32, 2)\n",
    "        self.linear = nn.Linear(32, n_actions)\n",
    "\n",
    "    def forward(self, x):\n",
    "        x,h = self.gru(x.float())\n",
    "        x = F.leaky_relu(x)\n",
    "        return self.linear(x)"
   ]
  },
  {
   "cell_type": "code",
   "execution_count": 6,
   "metadata": {},
   "outputs": [],
   "source": [
    "def prepare_state(s, prev_s=None):\n",
    "    if prev_s is None:\n",
    "        prev_s = np.zeros((5,1,4))\n",
    "\n",
    "    # Get rid of useless rows and the green & blue colour chanels\n",
    "    reduced_rows = s[34:194, :, 0]\n",
    "\n",
    "    # Background is 0, paddles & ball is 1 (R value of backround 144)\n",
    "    masked = (reduced_rows != 144).astype(int)\n",
    "\n",
    "    # Center of our paddle (dqn paddle), opponent paddle, and ball y and x coordinates\n",
    "    dqn_y, _ = center_of_mass(masked[:, 140:144])\n",
    "    opp_y, _ = center_of_mass(masked[:, 16:20])\n",
    "    ball_y, ball_x = center_of_mass(masked[:, 20:140])\n",
    "\n",
    "    dqn_y = 80 if np.isnan(dqn_y) else dqn_y\n",
    "    opp_y = 80 if np.isnan(opp_y) else opp_y\n",
    "    # x position of ball is offset by 21 px to the center of img\n",
    "    ball_x = 80 if np.isnan(ball_x) else ball_x + 21\n",
    "    ball_y = 80 if np.isnan(ball_y) else ball_y\n",
    "\n",
    "    # Scale the positions to [0, 10] and leave velocities in [0,4]\n",
    "    # Hypothesis: Before, we were scaling an int in [0,160] to a float in [0,1]\n",
    "    # Maybe this range is too small?\n",
    "    state_vec = np.array([[[opp_y, dqn_y, ball_x, ball_y]]]) # / np.array([160, 160, 160, 160, 4, 4])\n",
    "    state_vec = np.concatenate((state_vec, prev_s))[:5]\n",
    "\n",
    "    return state_vec"
   ]
  },
  {
   "cell_type": "code",
   "execution_count": 4,
   "metadata": {},
   "outputs": [
    {
     "name": "stdout",
     "output_type": "stream",
     "text": [
      "tensor([[[ 0.0448, -0.1416, -0.1056, -0.1174, -0.1570,  0.1197]],\n",
      "\n",
      "        [[ 0.0537, -0.1509, -0.1044, -0.1204, -0.1790,  0.1349]],\n",
      "\n",
      "        [[ 0.0656, -0.1598, -0.1017, -0.1234, -0.2061,  0.1391]],\n",
      "\n",
      "        [[ 0.0784, -0.1652, -0.1004, -0.1255, -0.2264,  0.1413]],\n",
      "\n",
      "        [[ 0.0885, -0.1736, -0.0959, -0.1286, -0.2411,  0.1456]]],\n",
      "       grad_fn=<AddBackward0>)\n"
     ]
    }
   ],
   "source": [
    "# DQN takes input of shape (seq_len, batch, input_size)\n",
    "dqn = DQN()\n",
    "x = np.random.random((5,1,4))\n",
    "y = dqn.forward(torch.from_numpy(x))\n",
    "print(y)"
   ]
  },
  {
   "cell_type": "code",
   "execution_count": 5,
   "metadata": {},
   "outputs": [],
   "source": [
    "BATCH_SIZE = 64\n",
    "GAMMA = 0.99\n",
    "EPSILON_START = 0.3\n",
    "EPSILON_FINAL = 0.02\n",
    "EPSILON_DECAY = 1e6\n",
    "TARGET_UPDATE = 100\n",
    "lr = 1e-5\n",
    "INITIAL_MEMORY = 10000\n",
    "MEMORY_SIZE = 10 * INITIAL_MEMORY\n",
    "\n",
    "policy_net = DQN()\n",
    "target_net = DQN()\n",
    "memory = ReplayMemory(MEMORY_SIZE)\n",
    "optimizer = optim.Adam(policy_net.parameters(), lr=lr)\n",
    "\n",
    "\n",
    "\n"
   ]
  }
 ],
 "metadata": {
  "kernelspec": {
   "display_name": "Python 3",
   "language": "python",
   "name": "python3"
  },
  "language_info": {
   "codemirror_mode": {
    "name": "ipython",
    "version": 3
   },
   "file_extension": ".py",
   "mimetype": "text/x-python",
   "name": "python",
   "nbconvert_exporter": "python",
   "pygments_lexer": "ipython3",
   "version": "3.7.3"
  }
 },
 "nbformat": 4,
 "nbformat_minor": 2
}
